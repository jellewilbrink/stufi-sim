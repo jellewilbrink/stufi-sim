{
 "cells": [
  {
   "cell_type": "code",
   "execution_count": 95,
   "metadata": {},
   "outputs": [
    {
     "name": "stdout",
     "output_type": "stream",
     "text": [
      "The autoreload extension is already loaded. To reload it, use:\n",
      "  %reload_ext autoreload\n"
     ]
    }
   ],
   "source": [
    "%load_ext autoreload\n",
    "%autoreload 2\n",
    "\n",
    "# Imports\n",
    "import pandas as pd\n",
    "\n",
    "from scenario import LoanScenario"
   ]
  },
  {
   "cell_type": "code",
   "execution_count": 96,
   "metadata": {},
   "outputs": [
    {
     "data": {
      "text/html": [
       "<div>\n",
       "<style scoped>\n",
       "    .dataframe tbody tr th:only-of-type {\n",
       "        vertical-align: middle;\n",
       "    }\n",
       "\n",
       "    .dataframe tbody tr th {\n",
       "        vertical-align: top;\n",
       "    }\n",
       "\n",
       "    .dataframe thead th {\n",
       "        text-align: right;\n",
       "    }\n",
       "</style>\n",
       "<table border=\"1\" class=\"dataframe\">\n",
       "  <thead>\n",
       "    <tr style=\"text-align: right;\">\n",
       "      <th></th>\n",
       "      <th>Date</th>\n",
       "      <th>R</th>\n",
       "      <th>LC</th>\n",
       "      <th>BC</th>\n",
       "      <th>L</th>\n",
       "      <th>B</th>\n",
       "    </tr>\n",
       "  </thead>\n",
       "  <tbody>\n",
       "    <tr>\n",
       "      <th>0</th>\n",
       "      <td>2023-01-01</td>\n",
       "      <td>0.46</td>\n",
       "      <td>0.0</td>\n",
       "      <td>-500.0</td>\n",
       "      <td>10000.0</td>\n",
       "      <td>5000.0</td>\n",
       "    </tr>\n",
       "    <tr>\n",
       "      <th>1</th>\n",
       "      <td>2023-02-01</td>\n",
       "      <td>0.46</td>\n",
       "      <td>0.0</td>\n",
       "      <td>-500.0</td>\n",
       "      <td>0.0</td>\n",
       "      <td>0.0</td>\n",
       "    </tr>\n",
       "    <tr>\n",
       "      <th>2</th>\n",
       "      <td>2023-03-01</td>\n",
       "      <td>0.46</td>\n",
       "      <td>0.0</td>\n",
       "      <td>-500.0</td>\n",
       "      <td>0.0</td>\n",
       "      <td>0.0</td>\n",
       "    </tr>\n",
       "    <tr>\n",
       "      <th>3</th>\n",
       "      <td>2023-04-01</td>\n",
       "      <td>0.46</td>\n",
       "      <td>0.0</td>\n",
       "      <td>-500.0</td>\n",
       "      <td>0.0</td>\n",
       "      <td>0.0</td>\n",
       "    </tr>\n",
       "    <tr>\n",
       "      <th>4</th>\n",
       "      <td>2023-05-01</td>\n",
       "      <td>0.46</td>\n",
       "      <td>0.0</td>\n",
       "      <td>-500.0</td>\n",
       "      <td>0.0</td>\n",
       "      <td>0.0</td>\n",
       "    </tr>\n",
       "  </tbody>\n",
       "</table>\n",
       "</div>"
      ],
      "text/plain": [
       "        Date     R   LC     BC        L       B\n",
       "0 2023-01-01  0.46  0.0 -500.0  10000.0  5000.0\n",
       "1 2023-02-01  0.46  0.0 -500.0      0.0     0.0\n",
       "2 2023-03-01  0.46  0.0 -500.0      0.0     0.0\n",
       "3 2023-04-01  0.46  0.0 -500.0      0.0     0.0\n",
       "4 2023-05-01  0.46  0.0 -500.0      0.0     0.0"
      ]
     },
     "execution_count": 96,
     "metadata": {},
     "output_type": "execute_result"
    }
   ],
   "source": [
    "# Initial variables\n",
    "\n",
    "# Constant\n",
    "vars = [\"L\", \"B\"]  # Variables to plot the output for\n",
    "\n",
    "# Set start year and end year\n",
    "start_year = 2023\n",
    "end_year = 2025\n",
    "\n",
    "L0 = 10_000  # Start Loan (L) amount\n",
    "B0 = 5_000  # Start (combined) Balance (B) (overall balance on on your bank accounts)\n",
    "\n",
    "# R: Yearly interest Rate (R) (in %)\n",
    "R_dict = {\"2023-01-01\": 0.46, \"2024-01-01\": 2.56}\n",
    "\n",
    "# BC: Monthly Balance Change (BC) (Income-Expenses)\n",
    "BC_dict = {\n",
    "    \"2023-01-01\": -300,  # e.g. Studying\n",
    "    \"2024-01-01\": 100,  # e.g. started working\n",
    "}\n",
    "\n",
    "# Scenario 1\n",
    "# LC: Change of the Loan in this period: how much you are adding/repaying per month\n",
    "LC_dict = {}\n",
    "\n",
    "s1 = LoanScenario(\n",
    "    L0=L0,\n",
    "    B0=B0,\n",
    "    start_year=start_year,\n",
    "    end_year=end_year,\n",
    "    LC_dict=LC_dict,\n",
    "    R_dict=R_dict,\n",
    "    BC_dict=BC_dict,\n",
    ")\n",
    "\n",
    "# Scenario 2\n",
    "LC_dict = {\"2023-01-01\": 500, \"2024-01-01\": 0}\n",
    "\n",
    "s2 = LoanScenario(\n",
    "    L0=L0,\n",
    "    B0=B0,\n",
    "    start_year=start_year,\n",
    "    end_year=end_year,\n",
    "    LC_dict=LC_dict,\n",
    "    R_dict=R_dict,\n",
    "    BC_dict=BC_dict,\n",
    ")\n",
    "\n",
    "scenarios = {\"s1\": s1, \"s2\": s2}\n",
    "\n",
    "# Show dataframe before simulating\n",
    "s1.df.head()"
   ]
  },
  {
   "cell_type": "code",
   "execution_count": 97,
   "metadata": {},
   "outputs": [
    {
     "data": {
      "text/html": [
       "<div>\n",
       "<style scoped>\n",
       "    .dataframe tbody tr th:only-of-type {\n",
       "        vertical-align: middle;\n",
       "    }\n",
       "\n",
       "    .dataframe tbody tr th {\n",
       "        vertical-align: top;\n",
       "    }\n",
       "\n",
       "    .dataframe thead th {\n",
       "        text-align: right;\n",
       "    }\n",
       "</style>\n",
       "<table border=\"1\" class=\"dataframe\">\n",
       "  <thead>\n",
       "    <tr style=\"text-align: right;\">\n",
       "      <th></th>\n",
       "      <th>s1_L</th>\n",
       "      <th>s2_L</th>\n",
       "    </tr>\n",
       "    <tr>\n",
       "      <th>Date</th>\n",
       "      <th></th>\n",
       "      <th></th>\n",
       "    </tr>\n",
       "  </thead>\n",
       "  <tbody>\n",
       "    <tr>\n",
       "      <th>2023-01-01</th>\n",
       "      <td>10000.000000</td>\n",
       "      <td>10000.000000</td>\n",
       "    </tr>\n",
       "    <tr>\n",
       "      <th>2023-02-01</th>\n",
       "      <td>10003.895982</td>\n",
       "      <td>10504.090781</td>\n",
       "    </tr>\n",
       "    <tr>\n",
       "      <th>2023-03-01</th>\n",
       "      <td>10007.416238</td>\n",
       "      <td>11007.962994</td>\n",
       "    </tr>\n",
       "    <tr>\n",
       "      <th>2023-04-01</th>\n",
       "      <td>10011.315109</td>\n",
       "      <td>11512.446475</td>\n",
       "    </tr>\n",
       "    <tr>\n",
       "      <th>2023-05-01</th>\n",
       "      <td>10015.089656</td>\n",
       "      <td>12016.975506</td>\n",
       "    </tr>\n",
       "  </tbody>\n",
       "</table>\n",
       "</div>"
      ],
      "text/plain": [
       "                    s1_L          s2_L\n",
       "Date                                  \n",
       "2023-01-01  10000.000000  10000.000000\n",
       "2023-02-01  10003.895982  10504.090781\n",
       "2023-03-01  10007.416238  11007.962994\n",
       "2023-04-01  10011.315109  11512.446475\n",
       "2023-05-01  10015.089656  12016.975506"
      ]
     },
     "execution_count": 97,
     "metadata": {},
     "output_type": "execute_result"
    }
   ],
   "source": [
    "# Simulate\n",
    "for s in scenarios.values():\n",
    "    s.calculate()\n",
    "\n",
    "# Combine the scenarios into 1 dataframe\n",
    "results = {v: pd.DataFrame() for v in vars}\n",
    "\n",
    "for s_name, s in scenarios.items():\n",
    "    prefix = s_name\n",
    "\n",
    "    for v in vars:\n",
    "        results[v][\"Date\"] = s.df[\"Date\"]\n",
    "        results[v][f\"{prefix}_{v}\"] = s.df[v]\n",
    "\n",
    "for v in vars:\n",
    "    results[v].set_index(\"Date\", inplace=True)\n",
    "\n",
    "# Show dataframe after simulating\n",
    "results[\"L\"].head()"
   ]
  },
  {
   "cell_type": "code",
   "execution_count": 98,
   "metadata": {},
   "outputs": [
    {
     "data": {
      "image/png": "[encoded data removed]",
      "text/plain": [
       "<Figure size 640x480 with 1 Axes>"
      ]
     },
     "metadata": {},
     "output_type": "display_data"
    },
    {
     "data": {
      "image/png": "[encoded data removed]",
      "text/plain": [
       "<Figure size 640x480 with 1 Axes>"
      ]
     },
     "metadata": {},
     "output_type": "display_data"
    }
   ],
   "source": [
    "# Show output\n",
    "for v in vars:\n",
    "    results[v].plot.line()"
   ]
  },
  {
   "cell_type": "code",
   "execution_count": 99,
   "metadata": {},
   "outputs": [
    {
     "name": "stdout",
     "output_type": "stream",
     "text": [
      "                    s1_L          s2_L\n",
      "Date                                  \n",
      "2025-12-01  10563.156024  16361.863544\n",
      "\n",
      "\n",
      "              s1_B    s2_B\n",
      "Date                      \n",
      "2025-12-01  1900.0  7400.0\n",
      "\n",
      "\n"
     ]
    }
   ],
   "source": [
    "# Print outcomes numerically\n",
    "for v in vars:\n",
    "    print(results[v].tail(1))\n",
    "    print(\"\\n\")\n",
    "    "
   ]
  },
  {
   "cell_type": "code",
   "execution_count": 100,
   "metadata": {},
   "outputs": [
    {
     "data": {
      "text/plain": [
       "{'s1': 563.1560237645044, 's2': 361.86354362471684}"
      ]
     },
     "execution_count": 100,
     "metadata": {},
     "output_type": "execute_result"
    }
   ],
   "source": [
    "# Show total interest for each scenario\n",
    "total_interest = {s_name: s.get_total_interest() for s_name, s in scenarios.items()}\n",
    "\n",
    "total_interest"
   ]
  }
 ],
 "metadata": {
  "kernelspec": {
   "display_name": ".venv",
   "language": "python",
   "name": "python3"
  },
  "language_info": {
   "codemirror_mode": {
    "name": "ipython",
    "version": 3
   },
   "file_extension": ".py",
   "mimetype": "text/x-python",
   "name": "python",
   "nbconvert_exporter": "python",
   "pygments_lexer": "ipython3",
   "version": "3.10.11"
  }
 },
 "nbformat": 4,
 "nbformat_minor": 2
}
